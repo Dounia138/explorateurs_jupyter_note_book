{
 "cells": [
  {
   "cell_type": "code",
   "execution_count": 1,
   "id": "cd66f402",
   "metadata": {},
   "outputs": [],
   "source": [
    "import numpy as np\n",
    "import pandas as pd\n",
    "import matplotlib.pyplot as plt"
   ]
  },
  {
   "cell_type": "code",
   "execution_count": 2,
   "id": "5447c91a",
   "metadata": {},
   "outputs": [
    {
     "data": {
      "text/html": [
       "<div>\n",
       "<style scoped>\n",
       "    .dataframe tbody tr th:only-of-type {\n",
       "        vertical-align: middle;\n",
       "    }\n",
       "\n",
       "    .dataframe tbody tr th {\n",
       "        vertical-align: top;\n",
       "    }\n",
       "\n",
       "    .dataframe thead th {\n",
       "        text-align: right;\n",
       "    }\n",
       "</style>\n",
       "<table border=\"1\" class=\"dataframe\">\n",
       "  <thead>\n",
       "    <tr style=\"text-align: right;\">\n",
       "      <th></th>\n",
       "      <th>noeud_amont</th>\n",
       "      <th>noeud_aval</th>\n",
       "      <th>type_aretes</th>\n",
       "      <th>distance</th>\n",
       "      <th>arete_id</th>\n",
       "    </tr>\n",
       "  </thead>\n",
       "  <tbody>\n",
       "    <tr>\n",
       "      <th>0</th>\n",
       "      <td>sommet_15</td>\n",
       "      <td>sommet_95</td>\n",
       "      <td>chemin</td>\n",
       "      <td>16.980936</td>\n",
       "      <td>arete_6</td>\n",
       "    </tr>\n",
       "    <tr>\n",
       "      <th>1</th>\n",
       "      <td>sommet_45</td>\n",
       "      <td>sommet_38</td>\n",
       "      <td>chemin</td>\n",
       "      <td>11.317052</td>\n",
       "      <td>arete_25</td>\n",
       "    </tr>\n",
       "    <tr>\n",
       "      <th>2</th>\n",
       "      <td>sommet_28</td>\n",
       "      <td>sommet_72</td>\n",
       "      <td>arrivee</td>\n",
       "      <td>2.690543</td>\n",
       "      <td>arete_85</td>\n",
       "    </tr>\n",
       "    <tr>\n",
       "      <th>3</th>\n",
       "      <td>sommet_2</td>\n",
       "      <td>sommet_65</td>\n",
       "      <td>chemin</td>\n",
       "      <td>14.328168</td>\n",
       "      <td>arete_7</td>\n",
       "    </tr>\n",
       "    <tr>\n",
       "      <th>4</th>\n",
       "      <td>sommet_98</td>\n",
       "      <td>sommet_18</td>\n",
       "      <td>chemin</td>\n",
       "      <td>13.542829</td>\n",
       "      <td>arete_26</td>\n",
       "    </tr>\n",
       "    <tr>\n",
       "      <th>...</th>\n",
       "      <td>...</td>\n",
       "      <td>...</td>\n",
       "      <td>...</td>\n",
       "      <td>...</td>\n",
       "      <td>...</td>\n",
       "    </tr>\n",
       "    <tr>\n",
       "      <th>85</th>\n",
       "      <td>sommet_21</td>\n",
       "      <td>sommet_29</td>\n",
       "      <td>chemin</td>\n",
       "      <td>5.556694</td>\n",
       "      <td>arete_64</td>\n",
       "    </tr>\n",
       "    <tr>\n",
       "      <th>86</th>\n",
       "      <td>sommet_70</td>\n",
       "      <td>sommet_15</td>\n",
       "      <td>chemin</td>\n",
       "      <td>8.202683</td>\n",
       "      <td>arete_40</td>\n",
       "    </tr>\n",
       "    <tr>\n",
       "      <th>87</th>\n",
       "      <td>sommet_13</td>\n",
       "      <td>sommet_75</td>\n",
       "      <td>chemin</td>\n",
       "      <td>13.359543</td>\n",
       "      <td>arete_19</td>\n",
       "    </tr>\n",
       "    <tr>\n",
       "      <th>88</th>\n",
       "      <td>sommet_0</td>\n",
       "      <td>sommet_4</td>\n",
       "      <td>chemin</td>\n",
       "      <td>19.516010</td>\n",
       "      <td>arete_37</td>\n",
       "    </tr>\n",
       "    <tr>\n",
       "      <th>89</th>\n",
       "      <td>sommet_95</td>\n",
       "      <td>sommet_8</td>\n",
       "      <td>chemin</td>\n",
       "      <td>2.744767</td>\n",
       "      <td>arete_57</td>\n",
       "    </tr>\n",
       "  </tbody>\n",
       "</table>\n",
       "<p>90 rows × 5 columns</p>\n",
       "</div>"
      ],
      "text/plain": [
       "   noeud_amont noeud_aval type_aretes   distance  arete_id\n",
       "0    sommet_15  sommet_95      chemin  16.980936   arete_6\n",
       "1    sommet_45  sommet_38      chemin  11.317052  arete_25\n",
       "2    sommet_28  sommet_72     arrivee   2.690543  arete_85\n",
       "3     sommet_2  sommet_65      chemin  14.328168   arete_7\n",
       "4    sommet_98  sommet_18      chemin  13.542829  arete_26\n",
       "..         ...        ...         ...        ...       ...\n",
       "85   sommet_21  sommet_29      chemin   5.556694  arete_64\n",
       "86   sommet_70  sommet_15      chemin   8.202683  arete_40\n",
       "87   sommet_13  sommet_75      chemin  13.359543  arete_19\n",
       "88    sommet_0   sommet_4      chemin  19.516010  arete_37\n",
       "89   sommet_95   sommet_8      chemin   2.744767  arete_57\n",
       "\n",
       "[90 rows x 5 columns]"
      ]
     },
     "execution_count": 2,
     "metadata": {},
     "output_type": "execute_result"
    }
   ],
   "source": [
    "# Lire le csv\n",
    "df = pd.read_csv(\"parcours_explorateurs.csv\", low_memory=False)\n",
    "df"
   ]
  },
  {
   "cell_type": "code",
   "execution_count": 27,
   "id": "17f5630c",
   "metadata": {},
   "outputs": [
    {
     "name": "stdout",
     "output_type": "stream",
     "text": [
      "Liste des nœuds de départ : ['sommet_15', 'sommet_45', 'sommet_28', 'sommet_2', 'sommet_98', 'sommet_94', 'sommet_33', 'sommet_18', 'sommet_80', 'sommet_57', 'sommet_96', 'sommet_17', 'sommet_38', 'sommet_85', 'sommet_35', 'sommet_10', 'sommet_42', 'sommet_51', 'sommet_97', 'sommet_46', 'sommet_12', 'sommet_43', 'sommet_67', 'sommet_59', 'sommet_30', 'sommet_65', 'sommet_91', 'sommet_56', 'sommet_50', 'sommet_11', 'sommet_29', 'sommet_53', 'sommet_71', 'sommet_79', 'sommet_14', 'sommet_24', 'sommet_89', 'sommet_31', 'sommet_78', 'sommet_48', 'sommet_26', 'sommet_34', 'sommet_40', 'sommet_8', 'sommet_36', 'sommet_23', 'sommet_54', 'sommet_3', 'sommet_100', 'sommet_27', 'sommet_16', 'sommet_58', 'sommet_37', 'sommet_83', 'sommet_69', 'sommet_47', 'sommet_82', 'sommet_49', 'sommet_62', 'sommet_76', 'sommet_55', 'sommet_75', 'sommet_93', 'sommet_73', 'sommet_63', 'sommet_60', 'sommet_61', 'sommet_39', 'sommet_84', 'sommet_87', 'sommet_81', 'sommet_77', 'sommet_86', 'sommet_32', 'sommet_52', 'sommet_44', 'sommet_5', 'sommet_22', 'sommet_4', 'sommet_68', 'sommet_20', 'sommet_1', 'sommet_90', 'sommet_92', 'sommet_41', 'sommet_21', 'sommet_70', 'sommet_13', 'sommet_0', 'sommet_95', 'sommet_15', 'sommet_45', 'sommet_28', 'sommet_2', 'sommet_98', 'sommet_94', 'sommet_33', 'sommet_18', 'sommet_80', 'sommet_57', 'sommet_96', 'sommet_17', 'sommet_38', 'sommet_85', 'sommet_35', 'sommet_10', 'sommet_42', 'sommet_51', 'sommet_97', 'sommet_46', 'sommet_12', 'sommet_43', 'sommet_67', 'sommet_59', 'sommet_30', 'sommet_65', 'sommet_91', 'sommet_56', 'sommet_50', 'sommet_11', 'sommet_29', 'sommet_53', 'sommet_71', 'sommet_79', 'sommet_14', 'sommet_24', 'sommet_89', 'sommet_31', 'sommet_78', 'sommet_48', 'sommet_26', 'sommet_34', 'sommet_40', 'sommet_8', 'sommet_36', 'sommet_23', 'sommet_54', 'sommet_3', 'sommet_100', 'sommet_27', 'sommet_16', 'sommet_58', 'sommet_37', 'sommet_83', 'sommet_69', 'sommet_47', 'sommet_82', 'sommet_49', 'sommet_62', 'sommet_76', 'sommet_55', 'sommet_75', 'sommet_93', 'sommet_73', 'sommet_63', 'sommet_60', 'sommet_61', 'sommet_39', 'sommet_84', 'sommet_87', 'sommet_81', 'sommet_77', 'sommet_86', 'sommet_32', 'sommet_52', 'sommet_44', 'sommet_5', 'sommet_22', 'sommet_4', 'sommet_68', 'sommet_20', 'sommet_1', 'sommet_90', 'sommet_92', 'sommet_41', 'sommet_21', 'sommet_70', 'sommet_13', 'sommet_0', 'sommet_95']\n",
      "Liste des nœuds d'arrivée : ['sommet_95', 'sommet_38', 'sommet_72', 'sommet_65', 'sommet_18', 'sommet_16', 'sommet_90', 'sommet_83', 'sommet_40', 'sommet_12', 'sommet_61', 'sommet_43', 'sommet_88', 'sommet_54', 'sommet_23', 'sommet_100', 'sommet_41', 'sommet_63', 'sommet_6', 'sommet_51', 'sommet_86', 'sommet_76', 'sommet_0', 'sommet_49', 'sommet_73', 'sommet_94', 'sommet_77', 'sommet_39', 'sommet_96', 'sommet_1', 'sommet_30', 'sommet_25', 'sommet_89', 'sommet_64', 'sommet_58', 'sommet_70', 'sommet_37', 'sommet_24', 'sommet_27', 'sommet_55', 'sommet_10', 'sommet_17', 'sommet_9', 'sommet_52', 'sommet_82', 'sommet_92', 'sommet_79', 'sommet_66', 'sommet_46', 'sommet_21', 'sommet_85', 'sommet_78', 'sommet_47', 'sommet_87', 'sommet_35', 'sommet_28', 'sommet_11', 'sommet_2', 'sommet_99', 'sommet_22', 'sommet_60', 'sommet_19', 'sommet_44', 'sommet_53', 'sommet_62', 'sommet_3', 'sommet_67', 'sommet_98', 'sommet_81', 'sommet_20', 'sommet_26', 'sommet_57', 'sommet_69', 'sommet_13', 'sommet_80', 'sommet_97', 'sommet_42', 'sommet_48', 'sommet_32', 'sommet_5', 'sommet_45', 'sommet_71', 'sommet_68', 'sommet_74', 'sommet_93', 'sommet_29', 'sommet_15', 'sommet_75', 'sommet_4', 'sommet_8']\n",
      "Dictionnaire des relations amont-aval : {'sommet_15': ['sommet_95'], 'sommet_45': ['sommet_38'], 'sommet_28': ['sommet_72'], 'sommet_2': ['sommet_65'], 'sommet_98': ['sommet_18'], 'sommet_94': ['sommet_16'], 'sommet_33': ['sommet_90'], 'sommet_18': ['sommet_83'], 'sommet_80': ['sommet_40'], 'sommet_57': ['sommet_12'], 'sommet_96': ['sommet_61'], 'sommet_17': ['sommet_43'], 'sommet_38': ['sommet_88'], 'sommet_85': ['sommet_54'], 'sommet_35': ['sommet_23'], 'sommet_10': ['sommet_100'], 'sommet_42': ['sommet_41'], 'sommet_51': ['sommet_63'], 'sommet_97': ['sommet_6'], 'sommet_46': ['sommet_51'], 'sommet_12': ['sommet_86'], 'sommet_43': ['sommet_76'], 'sommet_67': ['sommet_0'], 'sommet_59': ['sommet_49'], 'sommet_30': ['sommet_73'], 'sommet_65': ['sommet_94'], 'sommet_91': ['sommet_77'], 'sommet_56': ['sommet_39'], 'sommet_50': ['sommet_96'], 'sommet_11': ['sommet_1'], 'sommet_29': ['sommet_30'], 'sommet_53': ['sommet_25'], 'sommet_71': ['sommet_89'], 'sommet_79': ['sommet_64'], 'sommet_14': ['sommet_58'], 'sommet_24': ['sommet_70'], 'sommet_89': ['sommet_37'], 'sommet_31': ['sommet_24'], 'sommet_78': ['sommet_27'], 'sommet_48': ['sommet_55'], 'sommet_26': ['sommet_10'], 'sommet_34': ['sommet_17'], 'sommet_40': ['sommet_9'], 'sommet_8': ['sommet_52'], 'sommet_36': ['sommet_82'], 'sommet_23': ['sommet_92'], 'sommet_54': ['sommet_79'], 'sommet_3': ['sommet_66'], 'sommet_100': ['sommet_46'], 'sommet_27': ['sommet_21'], 'sommet_16': ['sommet_85'], 'sommet_58': ['sommet_78'], 'sommet_37': ['sommet_47'], 'sommet_83': ['sommet_87'], 'sommet_69': ['sommet_35'], 'sommet_47': ['sommet_28'], 'sommet_82': ['sommet_11'], 'sommet_49': ['sommet_2'], 'sommet_62': ['sommet_99'], 'sommet_76': ['sommet_22'], 'sommet_55': ['sommet_60'], 'sommet_75': ['sommet_19'], 'sommet_93': ['sommet_44'], 'sommet_73': ['sommet_53'], 'sommet_63': ['sommet_62'], 'sommet_60': ['sommet_3'], 'sommet_61': ['sommet_67'], 'sommet_39': ['sommet_98'], 'sommet_84': ['sommet_81'], 'sommet_87': ['sommet_20'], 'sommet_81': ['sommet_26'], 'sommet_77': ['sommet_57'], 'sommet_86': ['sommet_69'], 'sommet_32': ['sommet_13'], 'sommet_52': ['sommet_80'], 'sommet_44': ['sommet_97'], 'sommet_5': ['sommet_42'], 'sommet_22': ['sommet_48'], 'sommet_4': ['sommet_32'], 'sommet_68': ['sommet_5'], 'sommet_20': ['sommet_45'], 'sommet_1': ['sommet_71'], 'sommet_90': ['sommet_68'], 'sommet_92': ['sommet_74'], 'sommet_41': ['sommet_93'], 'sommet_21': ['sommet_29'], 'sommet_70': ['sommet_15'], 'sommet_13': ['sommet_75'], 'sommet_0': ['sommet_4'], 'sommet_95': ['sommet_8']}\n"
     ]
    }
   ],
   "source": [
    "#Dictionnaire des relations amont-aval\n",
    "\n",
    "noeuds_depart = []\n",
    "noeuds_arrivee = []\n",
    "relations_amont_aval = {}\n",
    "\n",
    "# Utiliser une boucle while\n",
    "explorateurs = df['arete_id'].unique()\n",
    "i = 0\n",
    "\n",
    "while i < len(explorateurs):\n",
    "    explorateur = explorateurs[i]\n",
    "    \n",
    "    # Filtrer les données \n",
    "    trajet_explorateur = df[df['arete_id'] == explorateur]\n",
    "    \n",
    "    # si le trajet est vide\n",
    "    if trajet_explorateur.empty:\n",
    "        i += 1\n",
    "        continue\n",
    "    \n",
    "    noeuds_depart.append(trajet_explorateur.iloc[0]['noeud_amont'])\n",
    "    \n",
    "    noeuds_arrivee.append(trajet_explorateur.iloc[-1]['noeud_aval'])\n",
    "    \n",
    "    relations_amont_aval.update({sommet_amont: relations_amont_aval.get(sommet_amont, []) + [sommet_aval]\n",
    "                                  for sommet_amont, sommet_aval in zip(trajet_explorateur['noeud_amont'], trajet_explorateur['noeud_aval'])})\n",
    "    \n",
    "    i += 1\n",
    "\n",
    "print(\"Liste des nœuds de départ :\", noeuds_depart)\n",
    "print(\"Liste des nœuds d'arrivée :\", noeuds_arrivee)\n",
    "\n",
    "print(\"Dictionnaire des relations amont-aval :\", relations_amont_aval)\n"
   ]
  },
  {
   "cell_type": "code",
   "execution_count": 26,
   "id": "9062ec7b",
   "metadata": {},
   "outputs": [
    {
     "name": "stdout",
     "output_type": "stream",
     "text": [
      "Chemin le plus long: arete_38\n",
      "Longueur du chemin le plus long: 19.992527286552747\n",
      "Chemin le plus court: arete_81\n",
      "Longueur du chemin le plus court: 0.0791390788968415\n",
      "Moyenne des longueurs de chemin: 10.72752032051424\n",
      "Médiane des longueurs de chemin: 10.85907895595545\n",
      "Écart-type des longueurs de chemin: 5.616327787001578\n",
      "Écart interquartile des longueurs de chemin: 10.064919312861923\n"
     ]
    }
   ],
   "source": [
    "# Calculer la longueur de chaque chemin\n",
    "longueurs_chemins = df.groupby('arete_id')['distance'].sum()\n",
    "\n",
    "# Trouver le chemin le plus long et le plus court\n",
    "chemin_plus_long = longueurs_chemins.idxmax()\n",
    "chemin_plus_court = longueurs_chemins.idxmin()\n",
    "\n",
    "# Calculer les métriques\n",
    "moyenne = longueurs_chemins.mean()\n",
    "median = longueurs_chemins.median()\n",
    "ecart_type = longueurs_chemins.std()\n",
    "ecart_interquartile = longueurs_chemins.quantile(0.75) - longueurs_chemins.quantile(0.25)\n",
    "\n",
    "print(\"Chemin le plus long:\", chemin_plus_long)\n",
    "print(\"Longueur du chemin le plus long:\", longueurs_chemins.max())\n",
    "print(\"Chemin le plus court:\", chemin_plus_court)\n",
    "print(\"Longueur du chemin le plus court:\", longueurs_chemins.min())\n",
    "print(\"Moyenne des longueurs de chemin:\", moyenne)\n",
    "print(\"Médiane des longueurs de chemin:\", median)\n",
    "print(\"Écart-type des longueurs de chemin:\", ecart_type)\n",
    "print(\"Écart interquartile des longueurs de chemin:\", ecart_interquartile)\n"
   ]
  },
  {
   "cell_type": "code",
   "execution_count": 30,
   "id": "f4221dba",
   "metadata": {},
   "outputs": [
    {
     "data": {
      "image/png": "[encoded data removed]",
      "text/plain": [
       "<Figure size 720x432 with 1 Axes>"
      ]
     },
     "metadata": {
      "needs_background": "light"
     },
     "output_type": "display_data"
    },
    {
     "data": {
      "image/png": "[encoded data removed]",
      "text/plain": [
       "<Figure size 576x432 with 1 Axes>"
      ]
     },
     "metadata": {
      "needs_background": "light"
     },
     "output_type": "display_data"
    }
   ],
   "source": [
    "#diagramme en boxplot pour voir les mesures de dispersion \n",
    "#un histogramme des longueurs de chemin pour visualiser la distribution\n",
    "\n",
    "\n",
    "# Calculer la longueur de chaque chemin\n",
    "longueurs_chemins = df.groupby('arete_id')['distance'].sum()\n",
    "\n",
    "# longueur chemin histograme\n",
    "plt.figure(figsize=(10, 6))\n",
    "plt.hist(longueurs_chemins, bins=20, color='skyblue', edgecolor='black')\n",
    "plt.title('Distribution des longueurs de chemin')\n",
    "plt.xlabel('Longueur du chemin')\n",
    "plt.ylabel('Fréquence')\n",
    "plt.grid(True)\n",
    "plt.show()\n",
    "\n",
    "# longueurs de chemin en boîte\n",
    "plt.figure(figsize=(8, 6))\n",
    "plt.boxplot(longueurs_chemins, vert=False)\n",
    "plt.title('Diagramme en boîte des longueurs de chemin')\n",
    "plt.xlabel('Longueur du chemin')\n",
    "plt.yticks([])\n",
    "plt.grid(True)\n",
    "plt.show()\n"
   ]
  },
  {
   "cell_type": "code",
   "execution_count": null,
   "id": "0042550d",
   "metadata": {},
   "outputs": [],
   "source": []
  }
 ],
 "metadata": {
  "kernelspec": {
   "display_name": "Python 3 (ipykernel)",
   "language": "python",
   "name": "python3"
  },
  "language_info": {
   "codemirror_mode": {
    "name": "ipython",
    "version": 3
   },
   "file_extension": ".py",
   "mimetype": "text/x-python",
   "name": "python",
   "nbconvert_exporter": "python",
   "pygments_lexer": "ipython3",
   "version": "3.10.5"
  }
 },
 "nbformat": 4,
 "nbformat_minor": 5
}
